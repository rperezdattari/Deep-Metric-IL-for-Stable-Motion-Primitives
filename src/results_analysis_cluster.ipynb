{
 "cells": [
  {
   "cell_type": "code",
   "execution_count": null,
   "id": "0c7324fa",
   "metadata": {},
   "outputs": [],
   "source": [
    "import matplotlib.pyplot as plt\n",
    "import numpy as np\n",
    "import pickle\n",
    "from tools.results_functions import evaluate_system_comparison, show_dataset, get_camera_parameters, plot_LASA_S2, plot_accuracy_metrics\n",
    "results_base_directory = '/tudelft.net/staff-umbrella/condorstorage/riemannian/'\n",
    "#results_base_directory = './'"
   ]
  },
  {
   "cell_type": "markdown",
   "id": "8a58be3e",
   "metadata": {},
   "source": [
    "### LAIR qualitative"
   ]
  },
  {
   "cell_type": "code",
   "execution_count": null,
   "id": "d4c2947a",
   "metadata": {},
   "outputs": [],
   "source": [
    "plt.rcdefaults()\n",
    "plt.rcParams.update({\"text.usetex\": True, \n",
    "                     \"font.family\": \"Times New Roman\", \n",
    "                     \"font.size\": 32})\n",
    "dataset_name = 'LAIR'\n",
    "simulated_trajectory_length = 1500\n",
    "density = 10\n",
    "models_names = ['2nd_order_2D', '2nd_order_2D_euc', '2nd_order_behavioral_cloning_2D']\n",
    "quanti_eval = False\n",
    "quali_eval = True\n",
    "demos_ids = [3, 4, 9]"
   ]
  },
  {
   "cell_type": "code",
   "execution_count": null,
   "id": "6bf1b05a",
   "metadata": {},
   "outputs": [],
   "source": [
    "evaluate_system_comparison(quanti_eval, quali_eval, models_names, dataset_name, demos_ids, density, simulated_trajectory_length, results_base_directory)"
   ]
  },
  {
   "cell_type": "markdown",
   "id": "8412fd72",
   "metadata": {},
   "source": [
    "### LAIR quantitative"
   ]
  },
  {
   "cell_type": "code",
   "execution_count": null,
   "id": "1b233f5b",
   "metadata": {},
   "outputs": [],
   "source": [
    "plt.rcdefaults()\n",
    "plt.rcParams.update({\"text.usetex\": True, \n",
    "                     \"font.family\": \"Times New Roman\", \n",
    "                     \"font.size\": 32})\n",
    "dataset_name = 'LAIR'\n",
    "simulated_trajectory_length = 1500\n",
    "density = 50\n",
    "models_names = ['2nd_order_2D', '2nd_order_2D_euc', '2nd_order_behavioral_cloning_2D']\n",
    "quanti_eval = True\n",
    "quali_eval = False\n",
    "demos_ids = list(range(10))\n",
    "fixed_point_iteration_thr = 10\n",
    "save_name = 'quanti_metrics_LAIR'"
   ]
  },
  {
   "cell_type": "code",
   "execution_count": null,
   "id": "88af2cb8",
   "metadata": {},
   "outputs": [],
   "source": [
    "metrics = evaluate_system_comparison(quanti_eval, quali_eval, models_names, dataset_name, demos_ids, density, simulated_trajectory_length, results_base_directory, fixed_point_iteration_thr=fixed_point_iteration_thr, save_name=save_name)"
   ]
  },
  {
   "cell_type": "code",
   "execution_count": null,
   "id": "1a971490",
   "metadata": {},
   "outputs": [],
   "source": [
    "with open(results_base_directory + 'results_analysis/saved_metrics/%s.pk' % save_name, 'rb') as input_file:\n",
    "    metrics = pickle.load(input_file)\n",
    "    \n",
    "# Values\n",
    "models_names = ['Euclidean', 'Spherical', 'Behavioral Cloning']\n",
    "\n",
    "metrics_names = ['RMSE', 'DTWD', 'FD']\n",
    "title = 'Accuracy LAIR'\n",
    "\n",
    "metrics_models = [metrics['2nd_order_2D_euc'],\n",
    "                  metrics['2nd_order_2D'],\n",
    "                  metrics['2nd_order_behavioral_cloning_2D']]\n",
    "\n",
    "# Box plot\n",
    "plot_accuracy_metrics(models_names, metrics_names, metrics_models, title)"
   ]
  },
  {
   "cell_type": "code",
   "execution_count": null,
   "id": "545b42da",
   "metadata": {},
   "outputs": [],
   "source": [
    "with open(results_base_directory + 'results_analysis/saved_metrics/%s.pk' % save_name, 'rb') as input_file:\n",
    "    metrics = pickle.load(input_file)\n",
    "\n",
    "n_trajectories = density**2\n",
    "spherical = np.array(metrics['2nd_order_2D']['n_spurious']).mean() / n_trajectories * 100\n",
    "euclidean = np.array(metrics['2nd_order_2D_euc']['n_spurious']).mean() / n_trajectories * 100\n",
    "behavioral_cloning = np.array(metrics['2nd_order_behavioral_cloning_2D']['n_spurious']).mean() / n_trajectories * 100\n",
    "\n",
    "results = (n_trajectories, spherical, euclidean, behavioral_cloning)\n",
    "\n",
    "print(\n",
    "    'Percentage of Unsuccessful Trajectories (%.0f trajectories):\\n\\n'\n",
    "    'Spherical: %f%% \\n' \n",
    "    'Euclidean: %f%% \\n' \n",
    "    'Behavioral cloning: %f%% \\n' % results \n",
    "    )"
   ]
  }
 ],
 "metadata": {
  "kernelspec": {
   "display_name": "Python 3 (ipykernel)",
   "language": "python",
   "name": "python3"
  },
  "language_info": {
   "codemirror_mode": {
    "name": "ipython",
    "version": 3
   },
   "file_extension": ".py",
   "mimetype": "text/x-python",
   "name": "python",
   "nbconvert_exporter": "python",
   "pygments_lexer": "ipython3",
   "version": "3.8.10"
  }
 },
 "nbformat": 4,
 "nbformat_minor": 5
}
